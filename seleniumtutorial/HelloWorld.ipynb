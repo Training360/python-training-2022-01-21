{
 "cells": [
  {
   "cell_type": "markdown",
   "id": "71197833",
   "metadata": {},
   "source": [
    "# Bevezetés a Selenium használatába\n",
    "\n",
    "A projekt megnyitása után adjuk ki a következő parancsokat:\n",
    "\n",
    "```shell\n",
    "python -m venv venv\n",
    "venv\\Scripts\\activate\n",
    "pip install -r requirements.txt\n",
    "```\n",
    "\n",
    "Ez már telepíti a `webdriver-manager` és `selenium` csomagokat. Ez `webdriver-manager` \n",
    "letölti a megfelelő drivert az operációs rendszer temp könyvtárába.\n",
    "A `selenium` a Selenium WebDriver Python API.\n",
    "\n",
    "Közben a Visual Studio Code megkérdezi, hogy akarjuk-e a létrehozott virtual enviromentet használni, válasszuk, hogy igen.\n",
    "\n",
    "Majd _F1_, és _Notebook: Select Notebook Kernel_."
   ]
  },
  {
   "cell_type": "markdown",
   "id": "f9853de1",
   "metadata": {},
   "source": [
    "Kiválasztjuk, hogy melyik böngészőt akarjuk vezérelni."
   ]
  },
  {
   "cell_type": "code",
   "execution_count": 1,
   "id": "b07f9aba",
   "metadata": {
    "collapsed": true
   },
   "outputs": [
    {
     "name": "stderr",
     "output_type": "stream",
     "text": [
      "\n",
      "\n",
      "====== WebDriver manager ======\n",
      "Current google-chrome version is 97.0.4692\n",
      "Get LATEST chromedriver version for 97.0.4692 google-chrome\n",
      "Trying to download new driver from https://chromedriver.storage.googleapis.com/97.0.4692.71/chromedriver_win32.zip\n",
      "Driver has been saved in cache [C:\\Users\\iviczian\\.wdm\\drivers\\chromedriver\\win32\\97.0.4692.71]\n"
     ]
    }
   ],
   "source": [
    "from webdriver_manager.chrome import ChromeDriverManager\n",
    "manager = ChromeDriverManager().install()"
   ]
  },
  {
   "cell_type": "markdown",
   "id": "c3eb8034",
   "metadata": {},
   "source": [
    "A következő kód megnyit egy Chrome böngészőt, elnavigál a `https://www.python.org/` oldalra, majd kiválasztja a jobb felső keresőmezőt, ráklikkel, beleírja a `Style Guide for Python Code` szöveget, majd ráklikkel a `Go` gombra.\n",
    "\n",
    "Majd lekéri a találatokat, és a második találatnak a címét. Ennek meg kell egyeznie a `PEP 8 -- Style Guide for Python Code` szöveggel.\n",
    "\n",
    "Végül lezárja a böngészőt."
   ]
  },
  {
   "cell_type": "code",
   "execution_count": 2,
   "id": "a96449e8",
   "metadata": {},
   "outputs": [],
   "source": [
    "from selenium.webdriver.chrome.service import Service\n",
    "from selenium import webdriver\n",
    "from selenium.webdriver.common.by import By\n",
    "\n",
    "service = Service(manager)\n",
    "driver = webdriver.Chrome(service=service)\n",
    "\n",
    "driver.get(\"https://www.python.org/\")\n",
    "driver.find_element(By.ID, \"id-search-field\").click()\n",
    "driver.find_element(By.ID, \"id-search-field\").send_keys(\"Style Guide for Python Code\")\n",
    "driver.find_element(By.ID, \"submit\").click()\n",
    "\n",
    "text = driver.find_element(By.CSS_SELECTOR, \"#content > div > section > form > ul > li:nth-child(2) > h3\").text\n",
    "assert text == \"PEP 8 -- Style Guide for Python Code\"\n",
    "\n",
    "driver.close()"
   ]
  }
 ],
 "metadata": {
  "kernelspec": {
   "display_name": "Python 3 (ipykernel)",
   "language": "python",
   "name": "python3"
  },
  "language_info": {
   "codemirror_mode": {
    "name": "ipython",
    "version": 3
   },
   "file_extension": ".py",
   "mimetype": "text/x-python",
   "name": "python",
   "nbconvert_exporter": "python",
   "pygments_lexer": "ipython3",
   "version": "3.10.1"
  }
 },
 "nbformat": 4,
 "nbformat_minor": 5
}
